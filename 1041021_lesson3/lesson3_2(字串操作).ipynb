{
 "cells": [
  {
   "cell_type": "markdown",
   "id": "cdee4b5c",
   "metadata": {},
   "source": [
    "這是次標題\n",
    "這是次次標題\n",
    "這是項目符號\n",
    "\n",
    "這是項目符號\n",
    "\n",
    "這是項目編號\n",
    "\n",
    "這是項目編號\n",
    "\n",
    "print(\"Hello! World!\")"
   ]
  },
  {
   "cell_type": "code",
   "execution_count": 1,
   "id": "745a416a",
   "metadata": {},
   "outputs": [
    {
     "name": "stdout",
     "output_type": "stream",
     "text": [
      "我的姓名:robert\n"
     ]
    },
    {
     "data": {
      "text/plain": [
       "'=================================================='"
      ]
     },
     "execution_count": 1,
     "metadata": {},
     "output_type": "execute_result"
    }
   ],
   "source": [
    "# 字串可以使用的數學運算子(+,*)\n",
    "\n",
    "print(\"我的姓名:\" + \"robert\")\n",
    "\"=\" * 50"
   ]
  },
  {
   "cell_type": "code",
   "execution_count": 2,
   "id": "00311042",
   "metadata": {},
   "outputs": [
    {
     "name": "stdout",
     "output_type": "stream",
     "text": [
      "我的姓名:robert\n",
      "==================================================\n"
     ]
    }
   ],
   "source": [
    "# 字串可以使用的數學運算子(+,*)\n",
    "\n",
    "print(\"我的姓名:\" + \"robert\")\n",
    "print(\"=\" * 50)"
   ]
  },
  {
   "cell_type": "code",
   "execution_count": 3,
   "id": "6d5433fe",
   "metadata": {},
   "outputs": [
    {
     "name": "stdout",
     "output_type": "stream",
     "text": [
      "我的個人資料:\n",
      "姓名:\t徐國堂\n",
      "姓別:\t男\n"
     ]
    }
   ],
   "source": [
    "# 字串的特殊符號\n",
    "# \\n -> 換行\n",
    "# \\t -> tab\n",
    "\n",
    "print(\"我的個人資料:\\n姓名:\\t徐國堂\\n姓別:\\t男\")"
   ]
  },
  {
   "cell_type": "code",
   "execution_count": 1,
   "id": "12893359",
   "metadata": {},
   "outputs": [
    {
     "data": {
      "text/plain": [
       "'\\n我的個人資料:\\n姓名:   徐國堂\\n性別:   男\\n'"
      ]
     },
     "execution_count": 1,
     "metadata": {},
     "output_type": "execute_result"
    }
   ],
   "source": [
    "# 多行文字-1\n",
    "'''\n",
    "我的個人資料:\n",
    "姓名:   徐國堂\n",
    "性別:   男\n",
    "'''"
   ]
  },
  {
   "cell_type": "code",
   "execution_count": 2,
   "id": "a8ae5e73",
   "metadata": {},
   "outputs": [
    {
     "data": {
      "text/plain": [
       "'我的個人資料:\\n姓名:   徐國堂\\n性別:   男'"
      ]
     },
     "execution_count": 2,
     "metadata": {},
     "output_type": "execute_result"
    }
   ],
   "source": [
    "# 多行文字-2\n",
    "'''我的個人資料:\n",
    "姓名:   徐國堂\n",
    "性別:   男'''"
   ]
  },
  {
   "cell_type": "code",
   "execution_count": 3,
   "id": "71bb9545",
   "metadata": {},
   "outputs": [
    {
     "name": "stdout",
     "output_type": "stream",
     "text": [
      "我的個人資料:\n",
      "姓名:   徐國堂\n",
      "性別:   男\n"
     ]
    }
   ],
   "source": [
    "# 多行文字-3\n",
    "info = '''我的個人資料:\n",
    "姓名:   徐國堂\n",
    "性別:   男'''\n",
    "\n",
    "print(info)"
   ]
  },
  {
   "cell_type": "code",
   "execution_count": null,
   "id": "e3634d7a",
   "metadata": {},
   "outputs": [
    {
     "ename": "TypeError",
     "evalue": "can only concatenate str (not \"int\") to str",
     "output_type": "error",
     "traceback": [
      "\u001b[31m---------------------------------------------------------------------------\u001b[39m",
      "\u001b[31mTypeError\u001b[39m                                 Traceback (most recent call last)",
      "\u001b[36mCell\u001b[39m\u001b[36m \u001b[39m\u001b[32mIn[8]\u001b[39m\u001b[32m, line 6\u001b[39m\n\u001b[32m      3\u001b[39m apple = \u001b[32m7\u001b[39m\n\u001b[32m      4\u001b[39m banana = \u001b[32m3\u001b[39m\n\u001b[32m----> \u001b[39m\u001b[32m6\u001b[39m \u001b[33;43m\"\u001b[39;49m\u001b[33;43m我有水果\u001b[39;49m\u001b[33;43m\"\u001b[39;49m\u001b[43m \u001b[49m\u001b[43m+\u001b[49m\u001b[43m \u001b[49m\u001b[43mfruits\u001b[49m\n",
      "\u001b[31mTypeError\u001b[39m: can only concatenate str (not \"int\") to str"
     ]
    }
   ],
   "source": [
    "# 字串和數值變數的整合(error-字串+數值)\n",
    "fruits = 10\n",
    "apple = 7\n",
    "banana = 3\n",
    "\n",
    "\"我有水果\" + fruits"
   ]
  },
  {
   "cell_type": "code",
   "execution_count": 10,
   "id": "20e01a8f",
   "metadata": {},
   "outputs": [
    {
     "name": "stdout",
     "output_type": "stream",
     "text": [
      "我有水果10\n"
     ]
    }
   ],
   "source": [
    "# 字串和數值變數的整合(概念為字串+字串)\n",
    "fruits = 10\n",
    "apple = 7\n",
    "banana = 3\n",
    "\n",
    "result = \"我有水果\" + str(fruits)\n",
    "print(result)"
   ]
  },
  {
   "cell_type": "code",
   "execution_count": null,
   "id": "5c8aa7c3",
   "metadata": {},
   "outputs": [
    {
     "name": "stdout",
     "output_type": "stream",
     "text": [
      "我有水果10個,蘋果:7顆,香蕉:3根.\n"
     ]
    }
   ],
   "source": [
    "# 字串和數值變數的整合-1\n",
    "# 利用+運算子\n",
    "fruits = 10\n",
    "apple = 7\n",
    "banana = 3\n",
    "\n",
    "result = \"我有水果\" + str(fruits) + \"個,蘋果:\" + str(apple) + \"顆,香蕉:\" + str(banana) + \"根.\" \n",
    "print(result)"
   ]
  },
  {
   "cell_type": "code",
   "execution_count": null,
   "id": "09ae3904",
   "metadata": {},
   "outputs": [
    {
     "name": "stdout",
     "output_type": "stream",
     "text": [
      "我有水果10個,蘋果:7顆,香蕉:3根.\n"
     ]
    }
   ],
   "source": [
    "# 字串和數值變數的整合-2\n",
    "# 利用複合指定運算子\n",
    "fruits = 10\n",
    "apple = 7\n",
    "banana = 3\n",
    "\n",
    "result = \"\"\n",
    "\n",
    "result += \"我有水果\" \n",
    "result += str(fruits) \n",
    "result += \"個,蘋果:\"\n",
    "result += str(apple) \n",
    "result += \"顆,香蕉:\" \n",
    "result += str(banana) \n",
    "result += \"根.\"\n",
    "\n",
    "print(result)"
   ]
  },
  {
   "cell_type": "code",
   "execution_count": null,
   "id": "4f5fbbf1",
   "metadata": {},
   "outputs": [
    {
     "name": "stdout",
     "output_type": "stream",
     "text": [
      "我有水果10個,蘋果:7顆,香蕉:3根\n"
     ]
    }
   ],
   "source": [
    "# 字串和數值變數的整合-3\n",
    "# 格式化字串(字串插補)\n",
    "fruits = 10\n",
    "apple = 7\n",
    "banana = 3\n",
    "\n",
    "result = f\"我有水果{fruits}個,蘋果:{apple}顆,香蕉:{banana}根\"\n",
    "\n",
    "print(result)"
   ]
  }
 ],
 "metadata": {
  "kernelspec": {
   "display_name": "base",
   "language": "python",
   "name": "python3"
  },
  "language_info": {
   "codemirror_mode": {
    "name": "ipython",
    "version": 3
   },
   "file_extension": ".py",
   "mimetype": "text/x-python",
   "name": "python",
   "nbconvert_exporter": "python",
   "pygments_lexer": "ipython3",
   "version": "3.13.2"
  }
 },
 "nbformat": 4,
 "nbformat_minor": 5
}
