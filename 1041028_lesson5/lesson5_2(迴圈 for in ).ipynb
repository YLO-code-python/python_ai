{
 "cells": [
  {
   "cell_type": "code",
   "execution_count": null,
   "id": "38d47132",
   "metadata": {},
   "outputs": [
    {
     "data": {
      "text/plain": [
       "55"
      ]
     },
     "execution_count": 2,
     "metadata": {},
     "output_type": "execute_result"
    }
   ],
   "source": [
    "# 計算出1加到10\n",
    "\n",
    "# 一般寫法\n",
    "\n",
    "total = 0\n",
    "total += 1\n",
    "total += 2\n",
    "total += 3\n",
    "total += 4\n",
    "total += 5\n",
    "total += 6\n",
    "total += 7\n",
    "total += 8\n",
    "total += 9\n",
    "total += 10\n",
    "\n",
    "total"
   ]
  },
  {
   "cell_type": "code",
   "execution_count": null,
   "id": "2d7059a0",
   "metadata": {},
   "outputs": [
    {
     "data": {
      "text/plain": [
       "[1, 3, 5, 7, 9]"
      ]
     },
     "execution_count": 3,
     "metadata": {},
     "output_type": "execute_result"
    }
   ],
   "source": [
    "# 使用說明(python內建函數 range)\n",
    "# class range(stop)\n",
    "# class range(start, stop[, step])\n",
    "\n",
    "\n",
    "list(range(10))\n"
   ]
  },
  {
   "cell_type": "code",
   "execution_count": 4,
   "id": "030cfa85",
   "metadata": {},
   "outputs": [
    {
     "data": {
      "text/plain": [
       "[1, 2, 3, 4, 5, 6, 7, 8, 9, 10]"
      ]
     },
     "execution_count": 4,
     "metadata": {},
     "output_type": "execute_result"
    }
   ],
   "source": [
    "list(range(1,11))\n"
   ]
  },
  {
   "cell_type": "code",
   "execution_count": 5,
   "id": "a012e310",
   "metadata": {},
   "outputs": [
    {
     "data": {
      "text/plain": [
       "[1, 3, 5, 7, 9]"
      ]
     },
     "execution_count": 5,
     "metadata": {},
     "output_type": "execute_result"
    }
   ],
   "source": [
    "list(range(1,11,2))"
   ]
  },
  {
   "cell_type": "code",
   "execution_count": null,
   "id": "90abf9dc",
   "metadata": {},
   "outputs": [],
   "source": [
    "total = 0\n",
    "for n in range(1,11):\n",
    "    total += n\n",
    "\n",
    "total"
   ]
  },
  {
   "cell_type": "code",
   "execution_count": 15,
   "id": "52b8eebd",
   "metadata": {},
   "outputs": [
    {
     "name": "stdout",
     "output_type": "stream",
     "text": [
      "1\n",
      "2\n",
      "3\n",
      "4\n",
      "5\n",
      "6\n",
      "7\n",
      "8\n",
      "9\n"
     ]
    }
   ],
   "source": [
    "for i in range(1,10):\n",
    "    print (i)"
   ]
  },
  {
   "cell_type": "code",
   "execution_count": null,
   "id": "d0b6a003",
   "metadata": {},
   "outputs": [
    {
     "name": "stdout",
     "output_type": "stream",
     "text": [
      "i=1\n",
      "j=1\n",
      "j=2\n",
      "j=3\n",
      "j=4\n",
      "j=5\n",
      "j=6\n",
      "j=7\n",
      "j=8\n",
      "j=9\n",
      "\n",
      "i=2\n",
      "j=1\n",
      "j=2\n",
      "j=3\n",
      "j=4\n",
      "j=5\n",
      "j=6\n",
      "j=7\n",
      "j=8\n",
      "j=9\n",
      "\n",
      "i=3\n",
      "j=1\n",
      "j=2\n",
      "j=3\n",
      "j=4\n",
      "j=5\n",
      "j=6\n",
      "j=7\n",
      "j=8\n",
      "j=9\n",
      "\n",
      "i=4\n",
      "j=1\n",
      "j=2\n",
      "j=3\n",
      "j=4\n",
      "j=5\n",
      "j=6\n",
      "j=7\n",
      "j=8\n",
      "j=9\n",
      "\n",
      "i=5\n",
      "j=1\n",
      "j=2\n",
      "j=3\n",
      "j=4\n",
      "j=5\n",
      "j=6\n",
      "j=7\n",
      "j=8\n",
      "j=9\n",
      "\n",
      "i=6\n",
      "j=1\n",
      "j=2\n",
      "j=3\n",
      "j=4\n",
      "j=5\n",
      "j=6\n",
      "j=7\n",
      "j=8\n",
      "j=9\n",
      "\n",
      "i=7\n",
      "j=1\n",
      "j=2\n",
      "j=3\n",
      "j=4\n",
      "j=5\n",
      "j=6\n",
      "j=7\n",
      "j=8\n",
      "j=9\n",
      "\n",
      "i=8\n",
      "j=1\n",
      "j=2\n",
      "j=3\n",
      "j=4\n",
      "j=5\n",
      "j=6\n",
      "j=7\n",
      "j=8\n",
      "j=9\n",
      "\n",
      "i=9\n",
      "j=1\n",
      "j=2\n",
      "j=3\n",
      "j=4\n",
      "j=5\n",
      "j=6\n",
      "j=7\n",
      "j=8\n",
      "j=9\n",
      "\n"
     ]
    }
   ],
   "source": [
    "# 巢狀迴圈應用-1\n",
    "# 說明書 print(*objects, sep=' ', end='\\n', file=None, flush=False)\n",
    "\n",
    "for i in range(1,10):\n",
    "    print(f\"i={i}\")\n",
    "    for j in range(1,10):\n",
    "        print(f\"j={j}\")\n",
    "    print()\n"
   ]
  },
  {
   "cell_type": "code",
   "execution_count": null,
   "id": "bef94ad5",
   "metadata": {},
   "outputs": [
    {
     "name": "stdout",
     "output_type": "stream",
     "text": [
      "i=1\n",
      "j=1j=2j=3j=4j=5j=6j=7j=8j=9\n",
      "i=2\n",
      "j=1j=2j=3j=4j=5j=6j=7j=8j=9\n",
      "i=3\n",
      "j=1j=2j=3j=4j=5j=6j=7j=8j=9\n",
      "i=4\n",
      "j=1j=2j=3j=4j=5j=6j=7j=8j=9\n",
      "i=5\n",
      "j=1j=2j=3j=4j=5j=6j=7j=8j=9\n",
      "i=6\n",
      "j=1j=2j=3j=4j=5j=6j=7j=8j=9\n",
      "i=7\n",
      "j=1j=2j=3j=4j=5j=6j=7j=8j=9\n",
      "i=8\n",
      "j=1j=2j=3j=4j=5j=6j=7j=8j=9\n",
      "i=9\n",
      "j=1j=2j=3j=4j=5j=6j=7j=8j=9\n"
     ]
    }
   ],
   "source": [
    "# 巢狀迴圈-2\n",
    "\n",
    "# 巢狀迴圈\n",
    "\n",
    "for i in range(1,10):\n",
    "    print(f\"i={i}\")\n",
    "    for j in range(1,10):\n",
    "        print(f\"j={j}\",end=\" \")\n",
    "    print()\n"
   ]
  },
  {
   "cell_type": "code",
   "execution_count": 28,
   "id": "51d3799e",
   "metadata": {},
   "outputs": [
    {
     "name": "stdout",
     "output_type": "stream",
     "text": [
      "i=1\n",
      "j=1  j=2  j=3  j=4  j=5  j=6  j=7  j=8  j=9  \n",
      "==================================================\n",
      "i=2\n",
      "j=1  j=2  j=3  j=4  j=5  j=6  j=7  j=8  j=9  \n",
      "==================================================\n",
      "i=3\n",
      "j=1  j=2  j=3  j=4  j=5  j=6  j=7  j=8  j=9  \n",
      "==================================================\n",
      "i=4\n",
      "j=1  j=2  j=3  j=4  j=5  j=6  j=7  j=8  j=9  \n",
      "==================================================\n",
      "i=5\n",
      "j=1  j=2  j=3  j=4  j=5  j=6  j=7  j=8  j=9  \n",
      "==================================================\n",
      "i=6\n",
      "j=1  j=2  j=3  j=4  j=5  j=6  j=7  j=8  j=9  \n",
      "==================================================\n",
      "i=7\n",
      "j=1  j=2  j=3  j=4  j=5  j=6  j=7  j=8  j=9  \n",
      "==================================================\n",
      "i=8\n",
      "j=1  j=2  j=3  j=4  j=5  j=6  j=7  j=8  j=9  \n",
      "==================================================\n",
      "i=9\n",
      "j=1  j=2  j=3  j=4  j=5  j=6  j=7  j=8  j=9  \n",
      "==================================================\n"
     ]
    }
   ],
   "source": [
    "# 巢狀迴圈-3\n",
    "\n",
    "for i in range(1,10):\n",
    "    print(f\"i={i}\")\n",
    "    for j in range(1,10):\n",
    "        print(f\"j={j} \",end=\" \")\n",
    "    print()\n",
    "    print(\"=\" * 50)"
   ]
  }
 ],
 "metadata": {
  "kernelspec": {
   "display_name": "base",
   "language": "python",
   "name": "python3"
  },
  "language_info": {
   "codemirror_mode": {
    "name": "ipython",
    "version": 3
   },
   "file_extension": ".py",
   "mimetype": "text/x-python",
   "name": "python",
   "nbconvert_exporter": "python",
   "pygments_lexer": "ipython3",
   "version": "3.13.2"
  }
 },
 "nbformat": 4,
 "nbformat_minor": 5
}
