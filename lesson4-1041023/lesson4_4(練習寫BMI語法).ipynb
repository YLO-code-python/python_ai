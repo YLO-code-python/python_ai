{
 "cells": [
  {
   "cell_type": "code",
   "execution_count": null,
   "id": "1e3ab02c",
   "metadata": {},
   "outputs": [],
   "source": [
    "# 計算BMI\n",
    "print(\"====BMI計算=======\\n\")\n",
    "height = int(input(\"請輸入身高(cm):\"))\n",
    "weight = int(input(\"請輸入體重(kg):\"))\n",
    "bmi = weight / (height/100) ** 2\n",
    "print(f\"您的BMI是{round(bmi,ndigits=2)}\") #運用字串插補、浮點數round呈現"
   ]
  },
  {
   "cell_type": "code",
   "execution_count": null,
   "id": "f0a26155",
   "metadata": {},
   "outputs": [],
   "source": [
    "# 計算BMI\n",
    "print(\"====BMI計算=======\\n\")\n",
    "height = int(input(\"請輸入身高(cm):\"))\n",
    "weight = int(input(\"請輸入體重(kg):\"))\n",
    "bmi = weight / (height/100) ** 2\n",
    "print(f\"您的BMI是{round(bmi,ndigits=2)}\")\n",
    "\n",
    "if bmi<18.5:\n",
    "    print(\"體重過輕\")\n",
    "elif bmi<24:\n",
    "    print(\"正常範圍\")\n",
    "elif bmi<27:\n",
    "    print(\"過重\")\n",
    "elif bmi<30:\n",
    "    print(\"輕度肥胖\")\n",
    "elif bmi<35:\n",
    "    print(\"中度肥胖\")\n",
    "else:\n",
    "    print(\"重度肥胖\")\n",
    "    "
   ]
  }
 ],
 "metadata": {
  "kernelspec": {
   "display_name": "base",
   "language": "python",
   "name": "python3"
  },
  "language_info": {
   "codemirror_mode": {
    "name": "ipython",
    "version": 3
   },
   "file_extension": ".py",
   "mimetype": "text/x-python",
   "name": "python",
   "nbconvert_exporter": "python",
   "pygments_lexer": "ipython3",
   "version": "3.13.2"
  }
 },
 "nbformat": 4,
 "nbformat_minor": 5
}
