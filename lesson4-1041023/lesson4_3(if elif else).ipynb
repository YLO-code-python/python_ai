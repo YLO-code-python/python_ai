{
 "cells": [
  {
   "cell_type": "code",
   "execution_count": 3,
   "id": "74951c4f",
   "metadata": {},
   "outputs": [
    {
     "name": "stdout",
     "output_type": "stream",
     "text": [
      "及格\n"
     ]
    }
   ],
   "source": [
    "# 請試輸入 61 、59 數值\n",
    "scores = int(input(\"請輸入學生分數(0-100):\"))\n",
    "\n",
    "if scores >= 60:\n",
    "    print(\"及格\")\n",
    "else:\n",
    "    print(\"不及格\")"
   ]
  },
  {
   "cell_type": "code",
   "execution_count": null,
   "id": "225bd3d9",
   "metadata": {},
   "outputs": [],
   "source": [
    "# 當有三個區塊需要判斷時\n",
    "# 利用巢狀判斷\n",
    "# 試輸入 92 、76 、40 數值\n",
    "\n",
    "scores = int(input(\"請輸入學生分數(0-100):\"))\n",
    "\n",
    "if scores >= 90:\n",
    "    print(\"優\")\n",
    "else:\n",
    "    if scores >= 60:\n",
    "        print(\"及格\")\n",
    "    else:\n",
    "        print(\"不及格\")"
   ]
  },
  {
   "cell_type": "code",
   "execution_count": null,
   "id": "7dd5184d",
   "metadata": {},
   "outputs": [],
   "source": [
    "# 多項選擇判斷\n",
    "# 整合巢狀判斷\n",
    "# 試輸入 92 、76 、40 數值\n",
    "\n",
    "scores = int(input(\"請輸入學生分數(0-100):\"))\n",
    "\n",
    "if scores >= 90:\n",
    "    print(\"優\")\n",
    "elif scores >= 60:\n",
    "    print(\"及格\")\n",
    "else:\n",
    "    print(\"不及格\")"
   ]
  },
  {
   "cell_type": "code",
   "execution_count": null,
   "id": "6e26f774",
   "metadata": {},
   "outputs": [],
   "source": [
    "# 當有多個區塊需要判斷時\n",
    "# 用多個 elif   \n",
    "# 試輸入 92 、82 、72 、62、52 數值\n",
    "\n",
    "scores = int(input(\"請輸入學生分數(0-100):\"))\n",
    "\n",
    "if scores >= 90:\n",
    "    print(\"優\")\n",
    "elif scores >= 80:\n",
    "    print(\"甲\")\n",
    "elif scores >= 70:\n",
    "    print(\"乙\")\n",
    "elif scores >= 60:\n",
    "    print(\"丙\")\n",
    "else:\n",
    "    print(\"丁\")"
   ]
  }
 ],
 "metadata": {
  "kernelspec": {
   "display_name": "base",
   "language": "python",
   "name": "python3"
  },
  "language_info": {
   "codemirror_mode": {
    "name": "ipython",
    "version": 3
   },
   "file_extension": ".py",
   "mimetype": "text/x-python",
   "name": "python",
   "nbconvert_exporter": "python",
   "pygments_lexer": "ipython3",
   "version": "3.13.2"
  }
 },
 "nbformat": 4,
 "nbformat_minor": 5
}
