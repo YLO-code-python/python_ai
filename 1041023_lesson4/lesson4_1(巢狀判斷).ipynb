{
 "cells": [
  {
   "cell_type": "code",
   "execution_count": 1,
   "id": "aafa9b02",
   "metadata": {},
   "outputs": [
    {
     "name": "stdout",
     "output_type": "stream",
     "text": [
      "可以考駕照!\n"
     ]
    }
   ],
   "source": [
    "age = int(input(\"請輸入age:\"))\n",
    "\n",
    "if age >= 18:\n",
    "    print(\"可以考駕照!\")\n",
    "else:\n",
    "    print(\"不可以考駕照!\")"
   ]
  },
  {
   "cell_type": "code",
   "execution_count": null,
   "id": "680f928b",
   "metadata": {},
   "outputs": [
    {
     "name": "stdout",
     "output_type": "stream",
     "text": [
      "240\n"
     ]
    }
   ],
   "source": [
    "# 學生總分為300\n",
    "# 符合條件的學生可以加分5%\n",
    "# 單項選擇\n",
    "\n",
    "scores = int(input(\"請輸入學生分數(最高300分):\"))\n",
    "is_add = input(\"學生是否符合加分條件?(y,n)\")\n",
    "\n",
    "if(is_add == 'y'): # 單項選擇:輸入y則執行，輸入則不執行\n",
    "    scores *= 1.05\n",
    "\n",
    "print(scores)"
   ]
  },
  {
   "cell_type": "code",
   "execution_count": null,
   "id": "d2b08ac6",
   "metadata": {},
   "outputs": [
    {
     "name": "stdout",
     "output_type": "stream",
     "text": [
      "300\n"
     ]
    }
   ],
   "source": [
    "# 學生總分為300\n",
    "# 有些學生可以加分5%--判斷1 if \n",
    "# 如果加分超過300,就以300分為準--判斷2 if \n",
    "\n",
    "scores = int(input(\"請輸入學生分數(最高300分):\"))\n",
    "is_add = input(\"學生是否符合加分條件?(y,n)\")\n",
    "\n",
    "if(is_add == 'y'): # 單項選擇 --判斷1\n",
    "    scores *= 1.05\n",
    "    if scores > 300: # 利用巢狀判斷增加條件  --判斷2\n",
    "        scores = 300\n",
    "\n",
    "print(scores)"
   ]
  },
  {
   "cell_type": "code",
   "execution_count": null,
   "id": "c24ba758",
   "metadata": {},
   "outputs": [
    {
     "name": "stdout",
     "output_type": "stream",
     "text": [
      "250\n"
     ]
    }
   ],
   "source": [
    "# 學生總分為300\n",
    "# 有些學生可以加分5%--判斷1 if \n",
    "# 如果加分超過300,就以300分為準--判斷2 if \n",
    "# 當輸入 250 時，會有小數點--不要有小數點\n",
    "\n",
    "scores = int(input(\"請輸入學生分數(最高300分):\"))\n",
    "is_add = input(\"學生是否符合加分條件?(y,n)\")\n",
    "\n",
    "if(is_add == 'y'): # 單項選擇 --判斷1\n",
    "    scores *= 1.05\n",
    "    if scores > 300: # 利用巢狀判斷增加條件  --判斷2\n",
    "        scores = 300\n",
    "\n",
    "print(scores)"
   ]
  },
  {
   "cell_type": "code",
   "execution_count": 2,
   "id": "03a8b95e",
   "metadata": {},
   "outputs": [
    {
     "name": "stdout",
     "output_type": "stream",
     "text": [
      "262\n"
     ]
    }
   ],
   "source": [
    "# 學生總分為300\n",
    "# 有些學生可以加分5%\n",
    "# 如果加分超過300,就以300分為準\n",
    "\n",
    "scores = int(input(\"請輸入學生分數(最高300分):\"))\n",
    "is_add = input(\"學生是否符合加分條件?(y,n)\")\n",
    "\n",
    "if(is_add == 'y'): # 單項選擇\n",
    "    scores *= 1.05\n",
    "    if scores > 300: # 利用巢狀判斷增加條件\n",
    "        scores = 300\n",
    "\n",
    "# print(int(scores)) # 移除小數點\n",
    "print(round(scores)) # 4捨5入\n",
    "#print(round(scores, ndigits=2))\n"
   ]
  }
 ],
 "metadata": {
  "kernelspec": {
   "display_name": "base",
   "language": "python",
   "name": "python3"
  },
  "language_info": {
   "codemirror_mode": {
    "name": "ipython",
    "version": 3
   },
   "file_extension": ".py",
   "mimetype": "text/x-python",
   "name": "python",
   "nbconvert_exporter": "python",
   "pygments_lexer": "ipython3",
   "version": "3.13.2"
  }
 },
 "nbformat": 4,
 "nbformat_minor": 5
}
