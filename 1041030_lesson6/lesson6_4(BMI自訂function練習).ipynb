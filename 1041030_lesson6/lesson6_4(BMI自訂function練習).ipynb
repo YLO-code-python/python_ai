{
 "cells": [
  {
   "cell_type": "code",
   "execution_count": 1,
   "id": "18fb4357",
   "metadata": {},
   "outputs": [
    {
     "name": "stdout",
     "output_type": "stream",
     "text": [
      "====BMI計算=======\n",
      "\n",
      "您的BMI是21.26\n",
      "正常範圍\n"
     ]
    }
   ],
   "source": [
    "def get_bmi(w,h): #2個參數,傳出1個值\n",
    "    bmi = w / (h/100) ** 2 #計算公式\n",
    "    return bmi\n",
    "\n",
    "def bmi_status(bmi): #1個參數,傳出1個值\n",
    "    if bmi<18.5:\n",
    "        message = \"體重過輕\"\n",
    "    elif bmi<24:\n",
    "        message = \"正常範圍\"\n",
    "    elif bmi<27:\n",
    "        message = \"過重\"\n",
    "    elif bmi<30:\n",
    "        message = \"輕度肥胖\"\n",
    "    elif bmi<35:\n",
    "        message = \"中度肥胖\"\n",
    "    else:\n",
    "        message = \"重度肥胖\"\n",
    "    \n",
    "    return message \n",
    "\n",
    "\n",
    "# 計算BMI\n",
    "# 程式只有執行25~31行\n",
    "# 此程式碼自訂了2個區塊\n",
    "\n",
    "print(\"====BMI計算=======\\n\")\n",
    "height = int(input(\"請輸入身高(cm):\"))\n",
    "weight = int(input(\"請輸入體重(kg):\"))\n",
    "bmi = get_bmi(weight, height)    #為行1 def get_bmi(w,h)；而數值為27行跟28行\n",
    "print(f\"您的BMI是{round(bmi,ndigits=2)}\")\n",
    "status = bmi_status(bmi) #為行5 def bmi_status(bmi)\n",
    "print(status)"
   ]
  }
 ],
 "metadata": {
  "kernelspec": {
   "display_name": "base",
   "language": "python",
   "name": "python3"
  },
  "language_info": {
   "codemirror_mode": {
    "name": "ipython",
    "version": 3
   },
   "file_extension": ".py",
   "mimetype": "text/x-python",
   "name": "python",
   "nbconvert_exporter": "python",
   "pygments_lexer": "ipython3",
   "version": "3.13.2"
  }
 },
 "nbformat": 4,
 "nbformat_minor": 5
}
