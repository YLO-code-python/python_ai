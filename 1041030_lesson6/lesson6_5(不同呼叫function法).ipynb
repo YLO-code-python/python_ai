{
 "cells": [
  {
   "cell_type": "code",
   "execution_count": null,
   "id": "e249fe07",
   "metadata": {},
   "outputs": [],
   "source": [
    "#必需先執行過一次\n",
    "def menu(wine, entree, dessert):\n",
    "    print(f\"酒類:{wine}\")\n",
    "    print(f\"主食:{entree}\")\n",
    "    print(f\"甜點:{dessert}\")"
   ]
  },
  {
   "cell_type": "code",
   "execution_count": 2,
   "id": "29c5fdbd",
   "metadata": {},
   "outputs": [
    {
     "name": "stdout",
     "output_type": "stream",
     "text": [
      "酒類:白酒\n",
      "主食:牛排\n",
      "甜點:蛋糕\n"
     ]
    }
   ],
   "source": [
    "# 引數位置呼叫\n",
    "# 依照參數的順序\n",
    "\n",
    "menu('白酒','牛排','蛋糕') #呼叫menu"
   ]
  },
  {
   "cell_type": "code",
   "execution_count": null,
   "id": "87958e01",
   "metadata": {},
   "outputs": [
    {
     "name": "stdout",
     "output_type": "stream",
     "text": [
      "酒類:白酒\n",
      "主食:牛排\n",
      "甜點:蛋糕\n"
     ]
    }
   ],
   "source": [
    "# 引數名稱呼叫\n",
    "# 可以不依照參數順序\n",
    "\n",
    "menu(entree='牛排', dessert='蛋糕',wine='白酒')"
   ]
  },
  {
   "cell_type": "code",
   "execution_count": null,
   "id": "9541263f",
   "metadata": {},
   "outputs": [
    {
     "name": "stdout",
     "output_type": "stream",
     "text": [
      "酒類:白酒\n",
      "主食:牛排\n",
      "甜點:蛋糕\n"
     ]
    }
   ],
   "source": [
    "# 混合呼叫\n",
    "# 前面必需是引數位置呼叫\n",
    "# 後面是引數名稱呼叫\n",
    "# 使用引數名稱呼叫後,後面全部都要使用引數名稱呼叫\n",
    "\n",
    "menu('白酒',dessert='蛋糕',entree='牛排')"
   ]
  },
  {
   "cell_type": "code",
   "execution_count": 6,
   "id": "81705d98",
   "metadata": {},
   "outputs": [],
   "source": [
    "#參數有default值時，必需放在最後面\n",
    "\n",
    "def menu(wine, entree, dessert='奶昔'):\n",
    "    print(f\"酒類:{wine}\")\n",
    "    print(f\"主食:{entree}\")\n",
    "    print(f\"甜點:{dessert}\")"
   ]
  },
  {
   "cell_type": "code",
   "execution_count": 7,
   "id": "ca67db45",
   "metadata": {},
   "outputs": [
    {
     "name": "stdout",
     "output_type": "stream",
     "text": [
      "酒類:白酒\n",
      "主食:牛排\n",
      "甜點:奶昔\n"
     ]
    }
   ],
   "source": [
    "menu('白酒','牛排')"
   ]
  },
  {
   "cell_type": "code",
   "execution_count": 8,
   "id": "b94e31d3",
   "metadata": {},
   "outputs": [
    {
     "name": "stdout",
     "output_type": "stream",
     "text": [
      "酒類:白酒\n",
      "主食:牛排\n",
      "甜點:蛋糕\n"
     ]
    }
   ],
   "source": [
    "#不想使用default值時，必需用引數名稱覆蓋過去\n",
    "menu('白酒','牛排',dessert='蛋糕')"
   ]
  },
  {
   "cell_type": "code",
   "execution_count": 1,
   "id": "55b0b9e1",
   "metadata": {},
   "outputs": [
    {
     "name": "stdout",
     "output_type": "stream",
     "text": [
      "()\n",
      "=========\n",
      "(1, 2, 3, 'a', 'b', True)\n",
      "=========\n"
     ]
    }
   ],
   "source": [
    "#有*的參數使用\n",
    "#呼叫時沒有限定引數位置呼叫的數量\n",
    "def print_args(*args):\n",
    "    print(args)\n",
    "    print(\"=========\")\n",
    "\n",
    "print_args()\n",
    "print_args(1, 2, 3, 'a', 'b',True)"
   ]
  },
  {
   "cell_type": "code",
   "execution_count": 2,
   "id": "c430563d",
   "metadata": {},
   "outputs": [
    {
     "name": "stdout",
     "output_type": "stream",
     "text": [
      "{'one': 1, 'two': 2, 'three': 3, 'four': 4, 'five': 5}\n",
      "============\n",
      "{}\n",
      "============\n"
     ]
    }
   ],
   "source": [
    "#有**的參數\n",
    "#沒有限定數量的引數名稱呼叫\n",
    "\n",
    "def print_kwargs(**kwargs):\n",
    "    print(kwargs)\n",
    "    print(\"============\")\n",
    "\n",
    "print_kwargs(one=1, two=2, three=3, four=4, five=5)\n",
    "print_kwargs()"
   ]
  }
 ],
 "metadata": {
  "kernelspec": {
   "display_name": "base",
   "language": "python",
   "name": "python3"
  },
  "language_info": {
   "codemirror_mode": {
    "name": "ipython",
    "version": 3
   },
   "file_extension": ".py",
   "mimetype": "text/x-python",
   "name": "python",
   "nbconvert_exporter": "python",
   "pygments_lexer": "ipython3",
   "version": "3.13.2"
  }
 },
 "nbformat": 4,
 "nbformat_minor": 5
}
