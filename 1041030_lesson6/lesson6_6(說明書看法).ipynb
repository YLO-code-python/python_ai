{
 "cells": [
  {
   "cell_type": "code",
   "execution_count": null,
   "id": "3b31017f",
   "metadata": {},
   "outputs": [],
   "source": [
    "# 說明書\n",
    "# print(*objects, sep=' ', end='\\n', file=None, flush=False)"
   ]
  },
  {
   "cell_type": "code",
   "execution_count": 1,
   "id": "20d27811",
   "metadata": {},
   "outputs": [
    {
     "name": "stdout",
     "output_type": "stream",
     "text": [
      "\n"
     ]
    }
   ],
   "source": [
    "print()"
   ]
  },
  {
   "cell_type": "code",
   "execution_count": 2,
   "id": "1c8ccb6b",
   "metadata": {},
   "outputs": [
    {
     "name": "stdout",
     "output_type": "stream",
     "text": [
      "1 7 9 a b c\n"
     ]
    }
   ],
   "source": [
    "print(1,7,9,\"a\",\"b\",\"c\")"
   ]
  },
  {
   "cell_type": "code",
   "execution_count": null,
   "id": "de52e5f6",
   "metadata": {},
   "outputs": [
    {
     "name": "stdout",
     "output_type": "stream",
     "text": [
      "1-7-9-a-b-True\n",
      "1-7-9-a-b-True\n"
     ]
    }
   ],
   "source": [
    "# 對調也可以\n",
    "# 引數名稱呼叫\n",
    "# 可以不依照參數順序\n",
    "\n",
    "print(1,7,9,\"a\",\"b\",\"True\", sep='-', end='\\n')\n",
    "print(1,7,9,\"a\",\"b\",\"True\", end='\\n',sep='-')"
   ]
  }
 ],
 "metadata": {
  "kernelspec": {
   "display_name": "base",
   "language": "python",
   "name": "python3"
  },
  "language_info": {
   "codemirror_mode": {
    "name": "ipython",
    "version": 3
   },
   "file_extension": ".py",
   "mimetype": "text/x-python",
   "name": "python",
   "nbconvert_exporter": "python",
   "pygments_lexer": "ipython3",
   "version": "3.13.2"
  }
 },
 "nbformat": 4,
 "nbformat_minor": 5
}
