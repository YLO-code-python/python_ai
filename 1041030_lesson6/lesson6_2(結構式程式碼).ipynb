{
 "cells": [
  {
   "cell_type": "code",
   "execution_count": 6,
   "id": "59557615",
   "metadata": {},
   "outputs": [
    {
     "name": "stdout",
     "output_type": "stream",
     "text": [
      "66\n",
      "=============猜數字遊戲===================:\n",
      "\n",
      "賓果!猜對了, 答案是:66\n",
      "您共猜了1次\n",
      "遊戲結束\n"
     ]
    }
   ],
   "source": [
    "# 猜數字遊戲進階版\n",
    "# 輸入數字後範圍縮減\n",
    "# 詢問是否再繼續玩\n",
    "# \\n代表空行\n",
    "\n",
    "\n",
    "import random\n",
    "\n",
    "min = 1\n",
    "max = 100\n",
    "count = 0\n",
    "target = random.randint(min,max)\n",
    "print(target)\n",
    "\n",
    "print(\"=============猜數字遊戲===================:\\n\")\n",
    "\n",
    "while(True):\n",
    "    count += 1\n",
    "    keyin = int(input(f\"猜數字範圍{min}~{max}:\"))\n",
    "    if keyin >= min and keyin <= max:\n",
    "        if keyin == target:\n",
    "            print(f\"賓果!猜對了, 答案是:{target}\")\n",
    "            print(f\"您共猜了{count}次\")\n",
    "            break\n",
    "        elif keyin > target:\n",
    "            print(\"再小一點\")\n",
    "            max = keyin - 1            \n",
    "        elif keyin < target:\n",
    "            print(\"再大一點\")\n",
    "            min = keyin + 1            \n",
    "        print(f\"你已經猜了{count}次\")\n",
    "    else:\n",
    "        print(\"不範圍內\")\n",
    "    \n",
    "\n",
    "print(\"遊戲結束\")"
   ]
  },
  {
   "cell_type": "code",
   "execution_count": 4,
   "id": "cadf4c8e",
   "metadata": {},
   "outputs": [
    {
     "name": "stdout",
     "output_type": "stream",
     "text": [
      "48\n",
      "\n",
      "\n",
      "=============猜數字遊戲===================:\n",
      "\n",
      "再大一點\n",
      "你已經猜了1次\n",
      "賓果!猜對了, 答案是:48\n",
      "您共猜了2次\n",
      "遊戲結束\n"
     ]
    }
   ],
   "source": [
    "# 猜數字遊戲\n",
    "# 自已定義function區；只有在呼叫時才會執行\n",
    "\n",
    "\n",
    "\n",
    "import random\n",
    "\n",
    "def play_game(): #自訂function；\n",
    "    min = 1\n",
    "    max = 100\n",
    "    count = 0\n",
    "    target = random.randint(min,max)\n",
    "    print(target)\n",
    "    print(\"\\n\\n=============猜數字遊戲===================:\\n\")\n",
    "\n",
    "    while(True):\n",
    "        count += 1\n",
    "        keyin = int(input(f\"猜數字範圍{min}~{max}:\"))\n",
    "        if keyin >= min and keyin <= max:\n",
    "            if keyin == target:\n",
    "                print(f\"賓果!猜對了, 答案是:{target}\")\n",
    "                print(f\"您共猜了{count}次\")\n",
    "                break\n",
    "            elif keyin > target:\n",
    "                print(\"再小一點\")\n",
    "                max = keyin - 1            \n",
    "            elif keyin < target:\n",
    "                print(\"再大一點\")\n",
    "                min = keyin + 1            \n",
    "            print(f\"你已經猜了{count}次\")\n",
    "        else:\n",
    "            print(\"不範圍內\")\n",
    "\n",
    "\n",
    "while(True):    # 程式執行開始行\n",
    "    play_game() #自訂function區\n",
    "    play_again = input(\"請問還要繼續玩嗎(y,n)?\")\n",
    "    if play_again == 'n':\n",
    "        break\n",
    "    \n",
    "\n",
    "print(\"遊戲結束\")"
   ]
  }
 ],
 "metadata": {
  "kernelspec": {
   "display_name": "base",
   "language": "python",
   "name": "python3"
  },
  "language_info": {
   "codemirror_mode": {
    "name": "ipython",
    "version": 3
   },
   "file_extension": ".py",
   "mimetype": "text/x-python",
   "name": "python",
   "nbconvert_exporter": "python",
   "pygments_lexer": "ipython3",
   "version": "3.13.2"
  }
 },
 "nbformat": 4,
 "nbformat_minor": 5
}
