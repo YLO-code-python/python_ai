{
 "cells": [
  {
   "cell_type": "code",
   "execution_count": null,
   "id": "59557615",
   "metadata": {},
   "outputs": [
    {
     "name": "stdout",
     "output_type": "stream",
     "text": [
      "=============猜數字遊戲===================:\n",
      "\n"
     ]
    },
    {
     "ename": "ValueError",
     "evalue": "invalid literal for int() with base 10: ''",
     "output_type": "error",
     "traceback": [
      "\u001b[31m---------------------------------------------------------------------------\u001b[39m",
      "\u001b[31mValueError\u001b[39m                                Traceback (most recent call last)",
      "\u001b[36mCell\u001b[39m\u001b[36m \u001b[39m\u001b[32mIn[5]\u001b[39m\u001b[32m, line 17\u001b[39m\n\u001b[32m     15\u001b[39m \u001b[38;5;28;01mwhile\u001b[39;00m(\u001b[38;5;28;01mTrue\u001b[39;00m):\n\u001b[32m     16\u001b[39m     count += \u001b[32m1\u001b[39m\n\u001b[32m---> \u001b[39m\u001b[32m17\u001b[39m     keyin = \u001b[38;5;28;43mint\u001b[39;49m\u001b[43m(\u001b[49m\u001b[38;5;28;43minput\u001b[39;49m\u001b[43m(\u001b[49m\u001b[33;43mf\u001b[39;49m\u001b[33;43m\"\u001b[39;49m\u001b[33;43m猜數字範圍\u001b[39;49m\u001b[38;5;132;43;01m{\u001b[39;49;00m\u001b[38;5;28;43mmin\u001b[39;49m\u001b[38;5;132;43;01m}\u001b[39;49;00m\u001b[33;43m~\u001b[39;49m\u001b[38;5;132;43;01m{\u001b[39;49;00m\u001b[38;5;28;43mmax\u001b[39;49m\u001b[38;5;132;43;01m}\u001b[39;49;00m\u001b[33;43m:\u001b[39;49m\u001b[33;43m\"\u001b[39;49m\u001b[43m)\u001b[49m\u001b[43m)\u001b[49m\n\u001b[32m     18\u001b[39m     \u001b[38;5;28;01mif\u001b[39;00m keyin >= \u001b[38;5;28mmin\u001b[39m \u001b[38;5;129;01mand\u001b[39;00m keyin <= \u001b[38;5;28mmax\u001b[39m:\n\u001b[32m     19\u001b[39m         \u001b[38;5;28;01mif\u001b[39;00m keyin == target:\n",
      "\u001b[31mValueError\u001b[39m: invalid literal for int() with base 10: ''"
     ]
    }
   ],
   "source": [
    "# 猜數字遊戲進階版\n",
    "# 輸入數字後範圍縮減\n",
    "# 詢問是否再繼續玩\n",
    "# \\n代表空行\n",
    "\n",
    "\n",
    "import random\n",
    "\n",
    "min = 1\n",
    "max = 100\n",
    "count = 0\n",
    "target = random.randint(min,max)\n",
    "print(\"=============猜數字遊戲===================:\\n\")\n",
    "\n",
    "while(True):\n",
    "    count += 1\n",
    "    keyin = int(input(f\"猜數字範圍{min}~{max}:\"))\n",
    "    if keyin >= min and keyin <= max:\n",
    "        if keyin == target:\n",
    "            print(f\"賓果!猜對了, 答案是:{target}\")\n",
    "            print(f\"您共猜了{count}次\")\n",
    "            break\n",
    "        elif keyin > target:\n",
    "            print(\"再小一點\")\n",
    "            max = keyin - 1            \n",
    "        elif keyin < target:\n",
    "            print(\"再大一點\")\n",
    "            min = keyin + 1            \n",
    "        print(f\"你已經猜了{count}次\")\n",
    "    else:\n",
    "        print(\"不範圍內\")\n",
    "    \n",
    "\n",
    "print(\"遊戲結束\")"
   ]
  },
  {
   "cell_type": "code",
   "execution_count": null,
   "id": "cadf4c8e",
   "metadata": {},
   "outputs": [
    {
     "name": "stdout",
     "output_type": "stream",
     "text": [
      "33\n",
      "\n",
      "\n",
      "=============猜數字遊戲===================:\n",
      "\n",
      "再小一點\n",
      "你已經猜了1次\n",
      "賓果!猜對了, 答案是:33\n",
      "您共猜了2次\n",
      "43\n",
      "\n",
      "\n",
      "=============猜數字遊戲===================:\n",
      "\n",
      "賓果!猜對了, 答案是:43\n",
      "您共猜了1次\n",
      "遊戲結束\n"
     ]
    }
   ],
   "source": [
    "# 猜數字遊戲\n",
    "# 自已定義function區；只有在呼叫時才會執行\n",
    "\n",
    "\n",
    "\n",
    "import random\n",
    "\n",
    "def play_game(): #自訂function；\n",
    "    min = 1\n",
    "    max = 100\n",
    "    count = 0\n",
    "    target = random.randint(min,max)\n",
    "    print(target)\n",
    "    print(\"\\n\\n=============猜數字遊戲===================:\\n\")\n",
    "\n",
    "    while(True):\n",
    "        count += 1\n",
    "        keyin = int(input(f\"猜數字範圍{min}~{max}:\"))\n",
    "        if keyin >= min and keyin <= max:\n",
    "            if keyin == target:\n",
    "                print(f\"賓果!猜對了, 答案是:{target}\")\n",
    "                print(f\"您共猜了{count}次\")\n",
    "                break\n",
    "            elif keyin > target:\n",
    "                print(\"再小一點\")\n",
    "                max = keyin - 1            \n",
    "            elif keyin < target:\n",
    "                print(\"再大一點\")\n",
    "                min = keyin + 1            \n",
    "            print(f\"你已經猜了{count}次\")\n",
    "        else:\n",
    "            print(\"不範圍內\")\n",
    "\n",
    "\n",
    "while(True):    # 程式執行開始行\n",
    "    play_game() #自訂function區\n",
    "    play_again = input(\"請問還要繼續玩嗎(y,n)?\")\n",
    "    if play_again == 'n':\n",
    "        break\n",
    "    \n",
    "\n",
    "print(\"遊戲結束\")"
   ]
  }
 ],
 "metadata": {
  "kernelspec": {
   "display_name": "base",
   "language": "python",
   "name": "python3"
  },
  "language_info": {
   "codemirror_mode": {
    "name": "ipython",
    "version": 3
   },
   "file_extension": ".py",
   "mimetype": "text/x-python",
   "name": "python",
   "nbconvert_exporter": "python",
   "pygments_lexer": "ipython3",
   "version": "3.13.2"
  }
 },
 "nbformat": 4,
 "nbformat_minor": 5
}
