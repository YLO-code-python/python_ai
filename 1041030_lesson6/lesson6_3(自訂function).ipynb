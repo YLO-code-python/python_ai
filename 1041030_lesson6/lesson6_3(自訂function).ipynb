{
 "cells": [
  {
   "cell_type": "code",
   "execution_count": null,
   "id": "a044dda0",
   "metadata": {},
   "outputs": [
    {
     "name": "stdout",
     "output_type": "stream",
     "text": [
      "Hello!\n"
     ]
    }
   ],
   "source": [
    "# 沒有參數,沒有傳出值的function\n",
    "# 自訂function「def」\n",
    "# 只有呼叫自訂function的時候才會執行\n",
    "\n",
    "\n",
    "def sayHello():\n",
    "    print(\"Hello!\")\n",
    "\n",
    "sayHello()"
   ]
  },
  {
   "cell_type": "code",
   "execution_count": null,
   "id": "31f6a569",
   "metadata": {},
   "outputs": [
    {
     "name": "stdout",
     "output_type": "stream",
     "text": [
      "您好!羅怡琳!\n"
     ]
    }
   ],
   "source": [
    "def sayHello(name): #1個參數,沒有傳出值\n",
    "    print(f\"您好!{name}!\")  #字串插補\n",
    "\n",
    "sayHello(\"羅怡琳\") "
   ]
  },
  {
   "cell_type": "code",
   "execution_count": 3,
   "id": "d5ed2b38",
   "metadata": {},
   "outputs": [
    {
     "name": "stdout",
     "output_type": "stream",
     "text": [
      "您好!羅怡琳!\n"
     ]
    }
   ],
   "source": [
    "def sayHello(name): #1個參數,有傳出值\n",
    "    return f\"您好!{name}!\"  #變成運算式了\n",
    "\n",
    "print(sayHello(\"羅怡琳\")) "
   ]
  }
 ],
 "metadata": {
  "kernelspec": {
   "display_name": "base",
   "language": "python",
   "name": "python3"
  },
  "language_info": {
   "codemirror_mode": {
    "name": "ipython",
    "version": 3
   },
   "file_extension": ".py",
   "mimetype": "text/x-python",
   "name": "python",
   "nbconvert_exporter": "python",
   "pygments_lexer": "ipython3",
   "version": "3.13.2"
  }
 },
 "nbformat": 4,
 "nbformat_minor": 5
}
