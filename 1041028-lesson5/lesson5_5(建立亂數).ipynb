{
 "cells": [
  {
   "cell_type": "code",
   "execution_count": null,
   "id": "8944573f",
   "metadata": {},
   "outputs": [],
   "source": [
    "import random\n",
    "\n",
    "print(random.random())\n",
    "print(random.randint(1,10))\n",
    "print(random.uniform(1.1, 5.4))\n"
   ]
  }
 ],
 "metadata": {
  "kernelspec": {
   "display_name": "base",
   "language": "python",
   "name": "python3"
  },
  "language_info": {
   "name": "python",
   "version": "3.13.2"
  }
 },
 "nbformat": 4,
 "nbformat_minor": 5
}
