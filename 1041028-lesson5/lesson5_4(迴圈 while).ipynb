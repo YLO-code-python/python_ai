{
 "cells": [
  {
   "cell_type": "code",
   "execution_count": null,
   "id": "0c55bac2",
   "metadata": {},
   "outputs": [],
   "source": [
    "# 小明想要存錢買一輛機車，機車每輛30000元，他將每月存的錢輸入，當存款足夠買機車時，就顯示提示訊息告知。\n",
    "# \n",
    "\n",
    "deposit = 0 # 建立第一變數值\n",
    "while deposit < 30000: # 建立while迴圈條件\n",
    "    inputNum = int(input('請輸入本月份的存款:')) #建立輸入數值\n",
    "    deposit += inputNum #建立第二變數值\n",
    "\n",
    "print(f\"恭喜!已經存夠了，存了{deposit}元\")\n"
   ]
  },
  {
   "cell_type": "code",
   "execution_count": 2,
   "id": "a1cb4d0e",
   "metadata": {},
   "outputs": [
    {
     "name": "stdout",
     "output_type": "stream",
     "text": [
      "恭喜!已經存夠了，存了7個月，存了32700元\n"
     ]
    }
   ],
   "source": [
    "# 小明想要存錢買一輛機車，機車每輛30000元，他將每月存的錢輸入，當存款足夠買機車時，就顯示提示訊息告知。\n",
    "# 想知道存了幾個月時完成\n",
    "\n",
    "deposit = 0 # 開始的錢值\n",
    "num = 0 #月值\n",
    "while deposit < 30000:\n",
    "    num += 1 #月份從1開始累加\n",
    "    inputNum = int(input(f'請輸入第{num}個月份的存款:')) # 字串插補{}\n",
    "    deposit += inputNum\n",
    "\n",
    "print(f\"恭喜!已經存夠了，存了{num}個月，存了{deposit}元\") # 字串插補{}\n"
   ]
  },
  {
   "cell_type": "code",
   "execution_count": 3,
   "id": "8d49ad29",
   "metadata": {},
   "outputs": [
    {
     "name": "stdout",
     "output_type": "stream",
     "text": [
      "恭喜!已經存夠了，存了3月,共存了40000元\n"
     ]
    }
   ],
   "source": [
    "# 小明想要存錢買一輛機車，機車每輛30000元，他將每月存的錢輸入，當存款足夠買機車時，就顯示提示訊息告知。\n",
    "# while true  break\n",
    "\n",
    "deposit = 0\n",
    "num = 0\n",
    "while True:\n",
    "    num += 1\n",
    "    inputNum = int(input(f'請輸入第{num}個月份的存款:'))\n",
    "    deposit += inputNum\n",
    "    if deposit >= 30000:\n",
    "        break\n",
    "\n",
    "print(f\"恭喜!已經存夠了，存了{num}月,共存了{deposit}元\")"
   ]
  },
  {
   "cell_type": "code",
   "execution_count": null,
   "id": "7b088765",
   "metadata": {},
   "outputs": [
    {
     "name": "stdout",
     "output_type": "stream",
     "text": [
      "輸入的次數是1,所有輸入的正偶數的加總是:2\n"
     ]
    }
   ],
   "source": [
    "# 請設計一個程式，讓使用者輸入數值，只有輸入正偶數值時加總，輸入正奇數值不加總，如果輸入負數，結束程式。\n",
    "# while true break continue\n",
    "# 輸入 1、2、3、4、5、6、7、8、9、10、-1\n",
    "\n",
    "sum = 0\n",
    "num = 0\n",
    "while True:\n",
    "    input_value = int(input(f\"請輸入第{num+1}個數值\"))\n",
    "    if input_value < 0:\n",
    "        break\n",
    "    num += 1\n",
    "    if input_value % 2 == 1: # 輸入的值餘數為1時\n",
    "        continue\n",
    "    sum += input_value\n",
    "\n",
    "print(f\"輸入的次數是{num},所有輸入的正偶數的加總是:{sum}\")"
   ]
  }
 ],
 "metadata": {
  "kernelspec": {
   "display_name": "base",
   "language": "python",
   "name": "python3"
  },
  "language_info": {
   "codemirror_mode": {
    "name": "ipython",
    "version": 3
   },
   "file_extension": ".py",
   "mimetype": "text/x-python",
   "name": "python",
   "nbconvert_exporter": "python",
   "pygments_lexer": "ipython3",
   "version": "3.13.2"
  }
 },
 "nbformat": 4,
 "nbformat_minor": 5
}
